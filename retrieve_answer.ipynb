{
 "cells": [
  {
   "cell_type": "code",
   "execution_count": 61,
   "metadata": {},
   "outputs": [],
   "source": [
    "from langchain.prompts import PromptTemplate\n",
    "from langchain.chains import RetrievalQA\n",
    "from langchain_community.chat_models import BedrockChat\n",
    "from pinecone import Pinecone\n",
    "from langchain_pinecone import PineconeVectorStore\n",
    "from langchain_aws import BedrockEmbeddings\n",
    "\n",
    "prompt_template = \"\"\"\n",
    "\n",
    "Human:Use the following pieces of context to provide a \n",
    "concise answer to the question at the end. if you know the answer , give me the answer as like chat conversation. If you don't know the answer, \n",
    "just say give answer as \"I don't know\" in 3 word.\n",
    "Read the following text inside <text></text> \n",
    "XML tags, and then answer the question:\n",
    "<context>\n",
    "don't consider maternity leave as type of time-off\n",
    "</context>\n",
    "<context>\n",
    "{context}\n",
    "</context>\n",
    "<context>\n",
    "{context}\n",
    "</context>\n",
    "\n",
    "Question: {question}\n",
    "\n",
    "Assistant:\"\"\"\n",
    "\n",
    "PROMPT = PromptTemplate(\n",
    "    template=prompt_template, input_variables=[\"context\", \"question\"]\n",
    ")\n",
    "\n",
    "def get_response_llm(llm,vectorstore_pincone,query):\n",
    "    qa = RetrievalQA.from_chain_type(\n",
    "    llm=llm,\n",
    "    chain_type=\"stuff\",\n",
    "    retriever=vectorstore_pincone.as_retriever(\n",
    "        search_type=\"similarity\", search_kwargs={\"k\": 1}\n",
    "    ),\n",
    "    return_source_documents=True,\n",
    "    chain_type_kwargs={\"prompt\": PROMPT}\n",
    ")\n",
    "    answer=qa({\"query\":query})\n",
    "    return answer\n",
    "\n",
    "def get_claude_llm():\n",
    "    llm=BedrockChat(\n",
    "        credentials_profile_name='default',\n",
    "        model_id='anthropic.claude-3-sonnet-20240229-v1:0',\n",
    "        region_name='us-east-1',\n",
    "        model_kwargs={\n",
    "        \"max_tokens\":2048,\n",
    "        \"temperature\": 0.1,\n",
    "        \"top_p\": 0.9})\n",
    "    return llm    \n",
    "\n",
    "def getVectorStore():\n",
    "    pc = Pinecone(api_key=\"312601e0-eb28-418c-82f5-f3cd8c0d14c3\")\n",
    "    index = pc.Index(\"langchain-rag-index\")\n",
    "    data_embeddings=BedrockEmbeddings(\n",
    "    credentials_profile_name= 'default',\n",
    "    model_id='amazon.titan-embed-text-v1',\n",
    "    region_name='us-east-1')    \n",
    "    vector_store = PineconeVectorStore(index=index, embedding=data_embeddings)\n",
    "    return vector_store    \n",
    "\n",
    " \n",
    "def lambda_handler(text, context):\n",
    "    llm=get_claude_llm()\n",
    "    vectorStore = getVectorStore()\n",
    "    result = get_response_llm(llm,vectorStore,text)\n",
    "    return result "
   ]
  },
  {
   "cell_type": "code",
   "execution_count": 63,
   "metadata": {},
   "outputs": [
    {
     "data": {
      "text/plain": [
       "{'query': 'what are different type of time off',\n",
       " 'result': 'Based on the given context, the different types of time off mentioned are:\\n\\nVacation, sick leave, paid time off, holiday, and maternity leave.',\n",
       " 'source_documents': [Document(metadata={'leave': 'timeoff'}, page_content='WFM enables you to configure multiple types of time off. Examples of time-off types include vacation,\\nsick leave, paid time off, holiday, and maternity leave.\\nBy default, WFM creates the Vacation time-off type. This time-off type cannot be deleted and does\\nnot belong exclusively to any site.\\nYou can configure a time-off rule for a one or multiple time-off types. When you configure multiple\\ntime-off types for the same rule, the time-off balance is calculated and accrued for all time-off types\\nassociated with that rule.\\nUse the procedures in this topic to create, copy, edit, and delete time-off types, and associate/\\ndisassociate time-off types with sites.\\nYou assign time-off type/time-off rule combinations to agents by using the Configuration > Agents\\n> Time Off pane.')]}"
      ]
     },
     "execution_count": 63,
     "metadata": {},
     "output_type": "execute_result"
    }
   ],
   "source": [
    "result = lambda_handler(\"what are different type of time off\",\"\")\n",
    "result"
   ]
  },
  {
   "cell_type": "code",
   "execution_count": null,
   "metadata": {},
   "outputs": [],
   "source": []
  }
 ],
 "metadata": {
  "kernelspec": {
   "display_name": "base",
   "language": "python",
   "name": "python3"
  },
  "language_info": {
   "codemirror_mode": {
    "name": "ipython",
    "version": 3
   },
   "file_extension": ".py",
   "mimetype": "text/x-python",
   "name": "python",
   "nbconvert_exporter": "python",
   "pygments_lexer": "ipython3",
   "version": "3.12.4"
  },
  "orig_nbformat": 4
 },
 "nbformat": 4,
 "nbformat_minor": 2
}
