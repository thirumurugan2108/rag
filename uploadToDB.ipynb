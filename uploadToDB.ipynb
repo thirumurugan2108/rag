{
 "cells": [
  {
   "cell_type": "markdown",
   "metadata": {},
   "source": [
    "## upload to DB\n"
   ]
  },
  {
   "cell_type": "code",
   "execution_count": 1,
   "metadata": {},
   "outputs": [],
   "source": [
    "import time\n",
    "import os\n",
    "from pinecone import Pinecone, ServerlessSpec\n",
    "from langchain_pinecone import PineconeVectorStore\n",
    "from langchain_aws import BedrockEmbeddings"
   ]
  },
  {
   "cell_type": "markdown",
   "metadata": {},
   "source": [
    "## Creating Index"
   ]
  },
  {
   "cell_type": "code",
   "execution_count": null,
   "metadata": {},
   "outputs": [],
   "source": [
    "def create_index():\n",
    "    pc = Pinecone(api_key=\"312601e0-eb28-418c-82f5-f3cd8c0d14c3\")\n",
    "\n",
    "    index_name = \"langchain-rag-index\"  # change if desired\n",
    "\n",
    "    existing_indexes = [index_info[\"name\"] for index_info in pc.list_indexes()]\n",
    "    data_embeddings=BedrockEmbeddings(\n",
    "    credentials_profile_name= 'default',\n",
    "    model_id='amazon.titan-embed-text-v1',\n",
    "    region_name='us-east-1')\n",
    "    if index_name not in existing_indexes:\n",
    "        pc.create_index(\n",
    "            name=index_name,\n",
    "            dimension=1536,\n",
    "            metric=\"cosine\",\n",
    "            spec=ServerlessSpec(cloud=\"aws\", region=\"us-east-1\"),\n",
    "        )\n",
    "        while not pc.describe_index(index_name).status[\"ready\"]:\n",
    "            time.sleep(1)\n",
    "\n",
    "    index = pc.Index(index_name)\n",
    "    vector_store = PineconeVectorStore(index=index, embedding=data_embeddings)\n",
    "    return vector_store"
   ]
  },
  {
   "cell_type": "markdown",
   "metadata": {},
   "source": [
    "## Add Documents:"
   ]
  },
  {
   "cell_type": "code",
   "execution_count": null,
   "metadata": {},
   "outputs": [],
   "source": [
    "from langchain_core.documents import Document\n",
    "def add_documents(vector_store):\n",
    "    document_1 = Document(page_content=\"\"\"WFM enables you to configure multiple types of time off. Examples of time-off types include vacation,\n",
    "sick leave, paid time off, holiday, and maternity leave.\n",
    "By default, WFM creates the Vacation time-off type. This time-off type cannot be deleted and does\n",
    "not belong exclusively to any site.\n",
    "You can configure a time-off rule for a one or multiple time-off types. When you configure multiple\n",
    "time-off types for the same rule, the time-off balance is calculated and accrued for all time-off types\n",
    "associated with that rule.\n",
    "Use the procedures in this topic to create, copy, edit, and delete time-off types, and associate/\n",
    "disassociate time-off types with sites.\n",
    "You assign time-off type/time-off rule combinations to agents by using the Configuration > Agents\n",
    "> Time Off pane.\"\"\", metadata={\"leave\": \"timeoff\"})\n",
    "    document_2 = Document(page_content=\"thud\", metadata={\"bar\": \"baz\"})\n",
    "    document_3 = Document(page_content=\"i will be deleted :(\")\n",
    "\n",
    "    documents = [document_1, document_2, document_3]\n",
    "    ids = [\"1\", \"2\", \"3\"]\n",
    "    vector_store.add_documents(documents=documents, ids=ids)"
   ]
  },
  {
   "cell_type": "markdown",
   "metadata": {},
   "source": [
    "## Execute"
   ]
  },
  {
   "cell_type": "markdown",
   "metadata": {},
   "source": [
    "vector_store = create_index()\n",
    "add_documents(vector_store)"
   ]
  }
 ],
 "metadata": {
  "kernelspec": {
   "display_name": "base",
   "language": "python",
   "name": "python3"
  },
  "language_info": {
   "codemirror_mode": {
    "name": "ipython",
    "version": 3
   },
   "file_extension": ".py",
   "mimetype": "text/x-python",
   "name": "python",
   "nbconvert_exporter": "python",
   "pygments_lexer": "ipython3",
   "version": "3.12.4"
  },
  "orig_nbformat": 4
 },
 "nbformat": 4,
 "nbformat_minor": 2
}
